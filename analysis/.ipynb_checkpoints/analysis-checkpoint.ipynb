{
 "cells": [
  {
   "cell_type": "code",
   "execution_count": 1,
   "id": "274d420e",
   "metadata": {},
   "outputs": [],
   "source": [
    "import pandas as pd\n",
    "import numpy as np\n",
    "import requests\n",
    "import json\n",
    "import json\n",
    "import math\n",
    "import csv\n",
    "import time\n",
    "import matplotlib.pyplot as plt #sets up plotting under plt \n",
    "import seaborn as sns #sets up styles and gives us more plotting options \n",
    "from pyspark.sql.functions import col"
   ]
  },
  {
   "cell_type": "code",
   "execution_count": 2,
   "id": "120d5471",
   "metadata": {},
   "outputs": [],
   "source": [
    "colin_df = pd.read_csv('../dataGen/Colins-match-data.csv')\n",
    "tim_df = pd.read_csv('../dataGen/Tims-match-data.csv')\n",
    "colin = 'SKELETREX'\n",
    "tim = 'spacemattress'"
   ]
  },
  {
   "cell_type": "code",
   "execution_count": 3,
   "id": "516838a2",
   "metadata": {},
   "outputs": [
    {
     "name": "stdout",
     "output_type": "stream",
     "text": [
      "<class 'pandas.core.frame.DataFrame'>\n",
      "RangeIndex: 5480 entries, 0 to 5479\n",
      "Data columns (total 44 columns):\n",
      " #   Column                  Non-Null Count  Dtype  \n",
      "---  ------                  --------------  -----  \n",
      " 0   match-id                5480 non-null   object \n",
      " 1   game-date               5480 non-null   int64  \n",
      " 2   game-type               5480 non-null   object \n",
      " 3   assist-me-pings         5480 non-null   int64  \n",
      " 4   enemy-missing-pings     5480 non-null   int64  \n",
      " 5   bounty-level            5480 non-null   int64  \n",
      " 6   ability-uses            0 non-null      float64\n",
      " 7   bounty-gold             5325 non-null   float64\n",
      " 8   buffs-stolen            5325 non-null   float64\n",
      " 9   control-wards-placed    5325 non-null   float64\n",
      " 10  damage-per-minute       5325 non-null   float64\n",
      " 11  damage-taken-on-team-%  5325 non-null   float64\n",
      " 12  deaths-by-enemy-champ   5325 non-null   float64\n",
      " 13  epic-monster-steals     5325 non-null   float64\n",
      " 14  first-turret-killed     5480 non-null   bool   \n",
      " 15  gold-per-minute         5325 non-null   float64\n",
      " 16  kda                     5325 non-null   float64\n",
      " 17  kpa                     5325 non-null   float64\n",
      " 18  assists                 5480 non-null   int64  \n",
      " 19  turret-damage-dealt     5480 non-null   int64  \n",
      " 20  vision-score            5480 non-null   int64  \n",
      " 21  champ-name              5480 non-null   object \n",
      " 22  champ-level             5480 non-null   int64  \n",
      " 23  deaths                  5480 non-null   int64  \n",
      " 24  first-blood             5480 non-null   bool   \n",
      " 25  first-blood-assist      5480 non-null   bool   \n",
      " 26  gold-earned             5480 non-null   int64  \n",
      " 27  gold-spent              5480 non-null   int64  \n",
      " 28  individual-position     5480 non-null   object \n",
      " 29  inhibitors-lost         5480 non-null   int64  \n",
      " 30  kills                   5480 non-null   int64  \n",
      " 31  longest-time-alive      5480 non-null   int64  \n",
      " 32  riot-id-game-name       5480 non-null   object \n",
      " 33  total-damage-dealt      5480 non-null   int64  \n",
      " 34  total-time-spent-dead   5480 non-null   int64  \n",
      " 35  team-id                 5480 non-null   int64  \n",
      " 36  win                     5480 non-null   bool   \n",
      " 37  game-duration           5480 non-null   int64  \n",
      " 38  game-mode               5480 non-null   object \n",
      " 39  role                    5480 non-null   object \n",
      " 40  q-casts                 5480 non-null   int64  \n",
      " 41  w-casts                 5480 non-null   int64  \n",
      " 42  e-casts                 5480 non-null   int64  \n",
      " 43  r-casts                 5480 non-null   int64  \n",
      "dtypes: bool(4), float64(11), int64(22), object(7)\n",
      "memory usage: 1.7+ MB\n"
     ]
    }
   ],
   "source": [
    "colin_df.info()"
   ]
  },
  {
   "cell_type": "code",
   "execution_count": null,
   "id": "137d559b",
   "metadata": {},
   "outputs": [],
   "source": [
    "cdeath.head()"
   ]
  },
  {
   "cell_type": "code",
   "execution_count": null,
   "id": "c9c61ff0",
   "metadata": {},
   "outputs": [],
   "source": []
  },
  {
   "cell_type": "code",
   "execution_count": null,
   "id": "facb502c",
   "metadata": {},
   "outputs": [],
   "source": [
    "teams = []\n",
    "for index, row in colin_df.iterrows():\n",
    "    if(row['riot-id-game-name'] == colin):\n",
    "        teams.append(row['team-id'])"
   ]
  },
  {
   "cell_type": "code",
   "execution_count": null,
   "id": "c999b220",
   "metadata": {},
   "outputs": [],
   "source": [
    "print(len(teams))"
   ]
  },
  {
   "cell_type": "code",
   "execution_count": null,
   "id": "eb10835f",
   "metadata": {},
   "outputs": [],
   "source": [
    "col_team_df = pd.DataFrame()\n",
    "for index, row in colin_df.iterrows():\n",
    "    target_team = col_teams[int(index / 10)]\n",
    "    if row['team-id'] == target_team:\n",
    "        if(row['riot-id-game-name'] != \"SKELETREX\"):\n",
    "            col_team_df = col_team_df.append(row, ignore_index=True)"
   ]
  },
  {
   "cell_type": "code",
   "execution_count": null,
   "id": "dabfa8b6",
   "metadata": {},
   "outputs": [],
   "source": [
    "col_team_df.to_csv(\"colins-teams.csv\", index=False)"
   ]
  }
 ],
 "metadata": {
  "kernelspec": {
   "display_name": "Python 3 (ipykernel)",
   "language": "python",
   "name": "python3"
  },
  "language_info": {
   "codemirror_mode": {
    "name": "ipython",
    "version": 3
   },
   "file_extension": ".py",
   "mimetype": "text/x-python",
   "name": "python",
   "nbconvert_exporter": "python",
   "pygments_lexer": "ipython3",
   "version": "3.9.18"
  }
 },
 "nbformat": 4,
 "nbformat_minor": 5
}
