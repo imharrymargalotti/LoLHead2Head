{
 "cells": [
  {
   "cell_type": "code",
   "execution_count": 2,
   "metadata": {},
   "outputs": [],
   "source": [
    "import pandas as pd\n",
    "import numpy as np\n",
    "import requests\n",
    "import json\n",
    "import json\n",
    "import math\n",
    "# import seaborn as sns\n",
    "\n",
    "#access data for Riot API and Discord Webhook\n"
   ]
  },
  {
   "cell_type": "code",
   "execution_count": 3,
   "metadata": {},
   "outputs": [],
   "source": [
    "#Quick way to execute GET requests\n",
    "api_key = \"RGAPI-a0e0d5f3-801c-43d3-a182-02ae0bc815dc\"\n",
    "def get_req(url, params):\n",
    "    headers = {\n",
    "                \"X-Riot-Token\": api_key,\n",
    "                }\n",
    "    response = requests.request(\"GET\", url, headers=headers, params=params)\n",
    "    return(response.text)"
   ]
  },
  {
   "cell_type": "code",
   "execution_count": 4,
   "metadata": {},
   "outputs": [],
   "source": [
    "#get a recent match list \n",
    "def get_matches(count, puuid):\n",
    "    parameters = {\n",
    "        \"count\": count\n",
    "    }\n",
    "    url = \"https://americas.api.riotgames.com/lol/match/v5/matches/by-puuid/\" + str(puuid) + \"/ids\"\n",
    "    res = get_req(url=url, params=parameters)\n",
    "    match_list =(res)\n",
    "    return match_list\n",
    "    \n"
   ]
  },
  {
   "cell_type": "code",
   "execution_count": 5,
   "metadata": {},
   "outputs": [],
   "source": [
    "def get_match_analytics(match_id):\n",
    "    url = f'https://americas.api.riotgames.com/lol/match/v5/matches/{match_id}'\n",
    "    res = json.loads(get_req(url, params = None))\n",
    "    return res"
   ]
  },
  {
   "cell_type": "code",
   "execution_count": 28,
   "metadata": {},
   "outputs": [],
   "source": [
    "#this gets account puuid: \n",
    "player = 'Skeletrex'\n",
    "account_v1 = f'https://na1.api.riotgames.com/lol/summoner/v4/summoners/by-name/{player}'\n",
    "res = json.loads(get_req(account_v1, params = None))\n",
    "puuid = res['puuid']\n",
    "\n",
    "#get players matches\n",
    "match_list = json.loads(get_matches(5, puuid))\n"
   ]
  },
  {
   "cell_type": "code",
   "execution_count": 34,
   "metadata": {},
   "outputs": [],
   "source": []
  },
  {
   "cell_type": "code",
   "execution_count": 46,
   "metadata": {},
   "outputs": [],
   "source": [
    "#lets carve out a really big data frame :)\n",
    "df = pd.DataFrame()\n",
    "#solo stats\n",
    "df['match-id'] = match_list\n",
    "df['win-loss'] = ''\n",
    "df['total-pings'] = ''\n",
    "df['bounty-level'] = ''\n",
    "df['ability-uses'] = ''\n",
    "df['bounty-gold'] = ''\n",
    "df['buffs-stolen'] = ''\n",
    "df['control-wards-placed'] = ''\n",
    "df['damage-per-minute'] = ''\n",
    "df['damage-taken-on-team-%'] = ''\n",
    "df['deaths-by-enemy-champ'] = ''\n",
    "df['early-laning-gold-exp-advantage'] = ''\n",
    "df['epic-monster-steals'] = ''"
   ]
  },
  {
   "cell_type": "code",
   "execution_count": 41,
   "metadata": {},
   "outputs": [],
   "source": [
    "participant = get_match_analytics(match_list[0])['info']['participants'][0]\n",
    "testdf = pd.json_normalize(participant)"
   ]
  },
  {
   "cell_type": "code",
   "execution_count": 45,
   "metadata": {},
   "outputs": [
    {
     "data": {
      "text/plain": [
       "<bound method DataFrame.info of    allInPings  assistMePings  assists  baronKills  basicPings  bountyLevel  \\\n",
       "0           0              1        6           0           0            0   \n",
       "\n",
       "   champExperience  champLevel  championId championName  ...  \\\n",
       "0            22621          18          75        Nasus  ...   \n",
       "\n",
       "   missions.playerScore4  missions.playerScore5  missions.playerScore6  \\\n",
       "0                      0                      0                      0   \n",
       "\n",
       "   missions.playerScore7  missions.playerScore8  missions.playerScore9  \\\n",
       "0                      0                      0                      0   \n",
       "\n",
       "   perks.statPerks.defense  perks.statPerks.flex  perks.statPerks.offense  \\\n",
       "0                     5011                  5001                     5008   \n",
       "\n",
       "                                        perks.styles  \n",
       "0  [{'description': 'primaryStyle', 'selections':...  \n",
       "\n",
       "[1 rows x 273 columns]>"
      ]
     },
     "execution_count": 45,
     "metadata": {},
     "output_type": "execute_result"
    }
   ],
   "source": [
    "testdf.info"
   ]
  }
 ],
 "metadata": {
  "kernelspec": {
   "display_name": "Python 3 (ipykernel)",
   "language": "python",
   "name": "python3"
  },
  "language_info": {
   "codemirror_mode": {
    "name": "ipython",
    "version": 3
   },
   "file_extension": ".py",
   "mimetype": "text/x-python",
   "name": "python",
   "nbconvert_exporter": "python",
   "pygments_lexer": "ipython3",
   "version": "3.9.18"
  }
 },
 "nbformat": 4,
 "nbformat_minor": 2
}
